{
  "nbformat": 4,
  "nbformat_minor": 0,
  "metadata": {
    "colab": {
      "provenance": [],
      "mount_file_id": "1EsvnRzLobPKB73pvIidCti5rdqhyWMF5",
      "authorship_tag": "ABX9TyNZ5stXsdiRlEZkS2QLlTDm",
      "include_colab_link": true
    },
    "kernelspec": {
      "name": "python3",
      "display_name": "Python 3"
    },
    "language_info": {
      "name": "python"
    }
  },
  "cells": [
    {
      "cell_type": "markdown",
      "metadata": {
        "id": "view-in-github",
        "colab_type": "text"
      },
      "source": [
        "<a href=\"https://colab.research.google.com/github/venky87999/Deep_Learning/blob/main/Exp_6.ipynb\" target=\"_parent\"><img src=\"https://colab.research.google.com/assets/colab-badge.svg\" alt=\"Open In Colab\"/></a>"
      ]
    },
    {
      "cell_type": "code",
      "execution_count": null,
      "metadata": {
        "id": "Di_ML8If8as7"
      },
      "outputs": [],
      "source": [
        "import numpy as np\n",
        "from tensorflow.keras.datasets import reuters\n",
        "from tensorflow.keras.models import Sequential\n",
        "from tensorflow.keras.layers import Dense,Embedding,LSTM\n",
        "from tensorflow.keras.preprocessing.sequence import pad_sequences\n",
        "from tensorflow.keras.utils import to_categorical\n",
        "from sklearn.model_selection import train_test_split"
      ]
    },
    {
      "cell_type": "code",
      "source": [
        "max_words=10000\n",
        "(X_train,y_train),(X_test,y_test)=reuters.load_data(num_words=max_words,test_split=0.2)\n"
      ],
      "metadata": {
        "colab": {
          "base_uri": "https://localhost:8080/"
        },
        "id": "Fnj-ljkc9ekm",
        "outputId": "5efa2424-738f-4dd2-d3d0-970e401d03f9"
      },
      "execution_count": null,
      "outputs": [
        {
          "output_type": "stream",
          "name": "stdout",
          "text": [
            "Downloading data from https://storage.googleapis.com/tensorflow/tf-keras-datasets/reuters.npz\n",
            "2110848/2110848 [==============================] - 1s 0us/step\n"
          ]
        }
      ]
    },
    {
      "cell_type": "code",
      "source": [
        "max_len=100\n",
        "X_train=pad_sequences(X_train,maxlen=max_len)\n",
        "X_test=pad_sequences(X_test,maxlen=max_len)"
      ],
      "metadata": {
        "id": "RMsA7E4J9zw2"
      },
      "execution_count": null,
      "outputs": []
    },
    {
      "cell_type": "code",
      "source": [
        "y_train=to_categorical(y_train,num_classes=46)\n",
        "y_test=to_categorical(y_test,num_classes=46)"
      ],
      "metadata": {
        "id": "qjDt35P0-SMF"
      },
      "execution_count": null,
      "outputs": []
    },
    {
      "cell_type": "code",
      "source": [
        "X_train,X_val,y_train,y_val=train_test_split(X_train,y_train,test_size=0.2,random_state=42)"
      ],
      "metadata": {
        "id": "9kA-ZOlL-lui"
      },
      "execution_count": null,
      "outputs": []
    },
    {
      "cell_type": "code",
      "source": [
        "model=Sequential()\n",
        "model.add(Embedding(max_words,128,input_length=max_len))\n",
        "model.add(LSTM(64,dropout=0.2,recurrent_dropout=0.2))\n",
        "model.add(Dense(46,activation='softmax'))"
      ],
      "metadata": {
        "id": "kXqu6HnU-7b-"
      },
      "execution_count": null,
      "outputs": []
    },
    {
      "cell_type": "code",
      "source": [
        "model.compile(optimizer='adam',loss='categorical_crossentropy',metrics=['accuracy'])"
      ],
      "metadata": {
        "id": "vYwKrBAp_4uc"
      },
      "execution_count": null,
      "outputs": []
    },
    {
      "cell_type": "code",
      "source": [
        "epochs=10\n",
        "batch_size=32\n",
        "model.fit(X_train,y_train,validation_data=(X_val,y_val),epochs=epochs,batch_size=batch_size)"
      ],
      "metadata": {
        "colab": {
          "base_uri": "https://localhost:8080/"
        },
        "id": "dZn1RWXTAIOs",
        "outputId": "30904702-0e9f-4955-e147-d30a21f61748"
      },
      "execution_count": null,
      "outputs": [
        {
          "output_type": "stream",
          "name": "stdout",
          "text": [
            "Epoch 1/10\n",
            "225/225 [==============================] - 44s 198ms/step - loss: 0.9506 - accuracy: 0.7562 - val_loss: 1.3508 - val_accuracy: 0.6767\n",
            "Epoch 2/10\n",
            "225/225 [==============================] - 45s 202ms/step - loss: 0.7857 - accuracy: 0.8019 - val_loss: 1.3908 - val_accuracy: 0.6889\n",
            "Epoch 3/10\n",
            "225/225 [==============================] - 45s 198ms/step - loss: 0.6382 - accuracy: 0.8345 - val_loss: 1.3579 - val_accuracy: 0.6962\n",
            "Epoch 4/10\n",
            "225/225 [==============================] - 44s 195ms/step - loss: 0.5282 - accuracy: 0.8671 - val_loss: 1.4222 - val_accuracy: 0.6912\n",
            "Epoch 5/10\n",
            "225/225 [==============================] - 44s 195ms/step - loss: 0.4447 - accuracy: 0.8889 - val_loss: 1.3975 - val_accuracy: 0.6900\n",
            "Epoch 6/10\n",
            "225/225 [==============================] - 44s 197ms/step - loss: 0.3693 - accuracy: 0.9105 - val_loss: 1.4111 - val_accuracy: 0.7045\n",
            "Epoch 7/10\n",
            "225/225 [==============================] - 45s 202ms/step - loss: 0.3076 - accuracy: 0.9254 - val_loss: 1.4333 - val_accuracy: 0.7112\n",
            "Epoch 8/10\n",
            "225/225 [==============================] - 44s 197ms/step - loss: 0.2537 - accuracy: 0.9397 - val_loss: 1.5767 - val_accuracy: 0.6978\n",
            "Epoch 9/10\n",
            "225/225 [==============================] - 44s 197ms/step - loss: 0.2258 - accuracy: 0.9443 - val_loss: 1.5384 - val_accuracy: 0.6962\n",
            "Epoch 10/10\n",
            "225/225 [==============================] - 44s 197ms/step - loss: 0.1977 - accuracy: 0.9477 - val_loss: 1.5464 - val_accuracy: 0.7134\n"
          ]
        },
        {
          "output_type": "execute_result",
          "data": {
            "text/plain": [
              "<keras.src.callbacks.History at 0x790b18c77d60>"
            ]
          },
          "metadata": {},
          "execution_count": 15
        }
      ]
    },
    {
      "cell_type": "code",
      "source": [
        "loss,accuracy=model.evaluate(X_test,y_test)\n",
        "print(f\"Test Loss:{loss:.4f},Test Accuracy:{accuracy:.4f}\")"
      ],
      "metadata": {
        "colab": {
          "base_uri": "https://localhost:8080/"
        },
        "id": "1ATTQjD4AoD2",
        "outputId": "16a1da0f-8cf6-4562-c223-4164f2eed411"
      },
      "execution_count": null,
      "outputs": [
        {
          "output_type": "stream",
          "name": "stdout",
          "text": [
            "71/71 [==============================] - 2s 24ms/step - loss: 1.7610 - accuracy: 0.6843\n",
            "Test Loss:1.7610,Test Accuracy:0.6843\n"
          ]
        }
      ]
    }
  ]
}