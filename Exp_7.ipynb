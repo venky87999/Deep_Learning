{
  "nbformat": 4,
  "nbformat_minor": 0,
  "metadata": {
    "colab": {
      "provenance": [],
      "mount_file_id": "1yKY8TfYnRxJfojEPK3Xm1E7W65H7dvtg",
      "authorship_tag": "ABX9TyNl+FmFnVKjE3qlDQdd9iu/",
      "include_colab_link": true
    },
    "kernelspec": {
      "name": "python3",
      "display_name": "Python 3"
    },
    "language_info": {
      "name": "python"
    }
  },
  "cells": [
    {
      "cell_type": "markdown",
      "metadata": {
        "id": "view-in-github",
        "colab_type": "text"
      },
      "source": [
        "<a href=\"https://colab.research.google.com/github/venky87999/Deep_Learning/blob/main/Exp_7.ipynb\" target=\"_parent\"><img src=\"https://colab.research.google.com/assets/colab-badge.svg\" alt=\"Open In Colab\"/></a>"
      ]
    },
    {
      "cell_type": "code",
      "execution_count": null,
      "metadata": {
        "id": "MNmIYCn-USmh"
      },
      "outputs": [],
      "source": [
        "import numpy as np\n",
        "from tensorflow.keras.datasets import mnist\n",
        "from tensorflow.keras.models import Sequential\n",
        "from tensorflow.keras.layers import Conv2D ,MaxPooling2D, Flatten, Dense\n",
        "from tensorflow.keras.utils import to_categorical\n",
        "from sklearn.model_selection import train_test_split\n"
      ]
    },
    {
      "cell_type": "code",
      "source": [
        "from google.colab import drive\n",
        "drive.mount('/content/drive')"
      ],
      "metadata": {
        "colab": {
          "base_uri": "https://localhost:8080/"
        },
        "id": "urM4YK_kVWRg",
        "outputId": "b856e752-78d1-4339-ea38-432bff1cbac5"
      },
      "execution_count": null,
      "outputs": [
        {
          "output_type": "stream",
          "name": "stdout",
          "text": [
            "Mounted at /content/drive\n"
          ]
        }
      ]
    },
    {
      "cell_type": "code",
      "source": [],
      "metadata": {
        "id": "zKerLpf1YO5j"
      },
      "execution_count": null,
      "outputs": []
    },
    {
      "cell_type": "code",
      "source": [
        "(X_train,y_train),(X_test,y_test)=mnist.load_data()"
      ],
      "metadata": {
        "colab": {
          "base_uri": "https://localhost:8080/"
        },
        "id": "aDmxDKskV48B",
        "outputId": "75b204e9-0d31-449b-8a43-661f13841e71"
      },
      "execution_count": null,
      "outputs": [
        {
          "output_type": "stream",
          "name": "stdout",
          "text": [
            "Downloading data from https://storage.googleapis.com/tensorflow/tf-keras-datasets/mnist.npz\n",
            "11490434/11490434 [==============================] - 0s 0us/step\n"
          ]
        }
      ]
    },
    {
      "cell_type": "code",
      "source": [
        "X_train=X_train.astype('float32')/255.0\n",
        "X_test=X_test.astype('float32')/255.0"
      ],
      "metadata": {
        "id": "HyhWtF-GWHyl"
      },
      "execution_count": null,
      "outputs": []
    },
    {
      "cell_type": "code",
      "source": [
        "X_train=np.expand_dims(X_train,axis=-1)\n",
        "X_test=np.expand_dims(X_test,axis=-1)"
      ],
      "metadata": {
        "id": "bCKKz-3xWb4m"
      },
      "execution_count": null,
      "outputs": []
    },
    {
      "cell_type": "code",
      "source": [
        "y_train=to_categorical(y_train,10)\n",
        "y_test=to_categorical(y_test,10)"
      ],
      "metadata": {
        "id": "8H-etsv2Wu1F"
      },
      "execution_count": null,
      "outputs": []
    },
    {
      "cell_type": "code",
      "source": [
        "X_train,X_val,y_train,y_val=train_test_split(X_train,y_train,test_size=0.2,random_state=42)"
      ],
      "metadata": {
        "id": "wz2oNb2RW60H"
      },
      "execution_count": null,
      "outputs": []
    },
    {
      "cell_type": "code",
      "source": [
        "model.compile(optimizer='adam', loss='categorical_crossentropy', metrics=['accuracy'])\n"
      ],
      "metadata": {
        "id": "GUnaptfCXVLF"
      },
      "execution_count": null,
      "outputs": []
    },
    {
      "cell_type": "code",
      "source": [
        "epochs = 10\n",
        "batch_size = 128\n",
        "model.fit(X_train, y_train, validation_data=(X_val, y_val), epochs=epochs, batch_size=batch_size)\n"
      ],
      "metadata": {
        "colab": {
          "base_uri": "https://localhost:8080/"
        },
        "id": "Y3XDctfBXWIF",
        "outputId": "36ab185f-219b-415a-ea41-2513f8934e16"
      },
      "execution_count": null,
      "outputs": [
        {
          "output_type": "stream",
          "name": "stdout",
          "text": [
            "Epoch 1/10\n",
            "375/375 [==============================] - 21s 57ms/step - loss: 0.0083 - accuracy: 0.9974 - val_loss: 0.0484 - val_accuracy: 0.9884\n",
            "Epoch 2/10\n",
            "375/375 [==============================] - 22s 59ms/step - loss: 0.0071 - accuracy: 0.9976 - val_loss: 0.0418 - val_accuracy: 0.9899\n",
            "Epoch 3/10\n",
            "375/375 [==============================] - 20s 54ms/step - loss: 0.0084 - accuracy: 0.9974 - val_loss: 0.0426 - val_accuracy: 0.9898\n",
            "Epoch 4/10\n",
            "375/375 [==============================] - 22s 60ms/step - loss: 0.0053 - accuracy: 0.9981 - val_loss: 0.0535 - val_accuracy: 0.9887\n",
            "Epoch 5/10\n",
            "375/375 [==============================] - 22s 59ms/step - loss: 0.0050 - accuracy: 0.9983 - val_loss: 0.0503 - val_accuracy: 0.9895\n",
            "Epoch 6/10\n",
            "375/375 [==============================] - 21s 57ms/step - loss: 0.0036 - accuracy: 0.9989 - val_loss: 0.0514 - val_accuracy: 0.9898\n",
            "Epoch 7/10\n",
            "375/375 [==============================] - 22s 58ms/step - loss: 0.0044 - accuracy: 0.9986 - val_loss: 0.0598 - val_accuracy: 0.9887\n",
            "Epoch 8/10\n",
            "375/375 [==============================] - 20s 55ms/step - loss: 0.0046 - accuracy: 0.9983 - val_loss: 0.0553 - val_accuracy: 0.9898\n",
            "Epoch 9/10\n",
            "375/375 [==============================] - 22s 58ms/step - loss: 0.0036 - accuracy: 0.9990 - val_loss: 0.0458 - val_accuracy: 0.9917\n",
            "Epoch 10/10\n",
            "375/375 [==============================] - 21s 56ms/step - loss: 0.0028 - accuracy: 0.9991 - val_loss: 0.0559 - val_accuracy: 0.9900\n"
          ]
        },
        {
          "output_type": "execute_result",
          "data": {
            "text/plain": [
              "<keras.src.callbacks.History at 0x7a34fc131ea0>"
            ]
          },
          "metadata": {},
          "execution_count": 17
        }
      ]
    },
    {
      "cell_type": "code",
      "source": [
        "loss, accuracy = model.evaluate(X_test, y_test)\n",
        "print(f\"Test Loss: {loss:.4f}, Test Accuracy: {accuracy:.4f}\")"
      ],
      "metadata": {
        "colab": {
          "base_uri": "https://localhost:8080/"
        },
        "id": "4r8KizgSYSlZ",
        "outputId": "591831ec-0d9b-41e0-e48a-eb4587f121bb"
      },
      "execution_count": null,
      "outputs": [
        {
          "output_type": "stream",
          "name": "stdout",
          "text": [
            "313/313 [==============================] - 2s 5ms/step - loss: 0.0444 - accuracy: 0.9902\n",
            "Test Loss: 0.0444, Test Accuracy: 0.9902\n"
          ]
        }
      ]
    }
  ]
}